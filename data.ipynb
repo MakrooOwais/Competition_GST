{
 "cells": [
  {
   "cell_type": "code",
   "execution_count": 1,
   "metadata": {},
   "outputs": [],
   "source": [
    "import pandas as pd"
   ]
  },
  {
   "cell_type": "code",
   "execution_count": 2,
   "metadata": {},
   "outputs": [],
   "source": [
    "X_Train = pd.read_csv(\"Data/X_Train_Data_Input.csv\")\n",
    "X_Test = pd.read_csv(\"Data/X_Test_Data_Input.csv\")"
   ]
  },
  {
   "cell_type": "code",
   "execution_count": 3,
   "metadata": {},
   "outputs": [],
   "source": [
    "medians = {}\n",
    "modes = {}\n",
    "means = {}\n",
    "stds = {}\n",
    "for i in range(22):\n",
    "    medians[\"Column\" + str(i)] = X_Train[\"Column\" + str(i)].median()\n",
    "    modes[\"Column\" + str(i)] = X_Train[\"Column\" + str(i)].mode().item()\n",
    "    means[\"Column\" + str(i)] = X_Train[\"Column\" + str(i)].mean()\n",
    "    stds[\"Column\" + str(i)] = X_Train[\"Column\" + str(i)].std()"
   ]
  },
  {
   "cell_type": "code",
   "execution_count": 12,
   "metadata": {},
   "outputs": [],
   "source": [
    "X_Train_imp_med = X_Train.fillna(pd.Series(medians))\n",
    "X_Train_imp_mod = X_Train.fillna(pd.Series(modes))\n",
    "X_Test_imp_med = X_Test.fillna(pd.Series(medians))\n",
    "X_Test_imp_mod = X_Test.fillna(pd.Series(modes))"
   ]
  },
  {
   "cell_type": "code",
   "execution_count": 16,
   "metadata": {},
   "outputs": [],
   "source": [
    "X_Train_imp_med.to_csv(\"X_Train_med.csv\")\n",
    "X_Test_imp_med.to_csv(\"X_Test_med.csv\")\n",
    "X_Train_imp_mod.to_csv(\"X_Train_mod.csv\")\n",
    "X_Test_imp_mod.to_csv(\"X_Test_mod.csv\")"
   ]
  },
  {
   "cell_type": "code",
   "execution_count": 15,
   "metadata": {},
   "outputs": [],
   "source": [
    "X_Train_cus_imp = pd.DataFrame()\n",
    "X_Test_cus_imp = pd.DataFrame()\n",
    "for i in range(22):\n",
    "    # i=5\n",
    "    if len(X_Train[f\"Column{i}\"].unique()) == 2:\n",
    "        X_Train_cus_imp[f\"Column{i}\"] = X_Train[f\"Column{i}\"].fillna(modes[f\"Column{i}\"])\n",
    "        X_Test_cus_imp[f\"Column{i}\"] = X_Test[f\"Column{i}\"].fillna(modes[f\"Column{i}\"])\n",
    "    else:\n",
    "        X_Train_cus_imp[f\"Column{i}\"] = X_Train[f\"Column{i}\"].fillna(means[f\"Column{i}\"])\n",
    "        X_Test_cus_imp[f\"Column{i}\"] = X_Test[f\"Column{i}\"].fillna(means[f\"Column{i}\"])\n",
    "    # break"
   ]
  },
  {
   "cell_type": "code",
   "execution_count": 18,
   "metadata": {},
   "outputs": [],
   "source": [
    "X_Train_cus_imp.to_csv(\"X_Train_cus_imp.csv\")\n",
    "X_Test_cus_imp.to_csv(\"X_Test_cus_imp.csv\")"
   ]
  }
 ],
 "metadata": {
  "kernelspec": {
   "display_name": "research_project",
   "language": "python",
   "name": "python3"
  },
  "language_info": {
   "codemirror_mode": {
    "name": "ipython",
    "version": 3
   },
   "file_extension": ".py",
   "mimetype": "text/x-python",
   "name": "python",
   "nbconvert_exporter": "python",
   "pygments_lexer": "ipython3",
   "version": "3.12.7"
  }
 },
 "nbformat": 4,
 "nbformat_minor": 2
}
